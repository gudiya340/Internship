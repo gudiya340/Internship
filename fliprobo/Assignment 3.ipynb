{
 "cells": [
  {
   "cell_type": "code",
   "execution_count": 1,
   "id": "a20191ea",
   "metadata": {},
   "outputs": [
    {
     "name": "stdout",
     "output_type": "stream",
     "text": [
      "Requirement already satisfied: selenium in c:\\users\\yashika\\anaconda3\\lib\\site-packages (4.8.2)\n",
      "Requirement already satisfied: trio~=0.17 in c:\\users\\yashika\\anaconda3\\lib\\site-packages (from selenium) (0.22.0)\n",
      "Requirement already satisfied: certifi>=2021.10.8 in c:\\users\\yashika\\anaconda3\\lib\\site-packages (from selenium) (2022.9.14)\n",
      "Requirement already satisfied: urllib3[socks]~=1.26 in c:\\users\\yashika\\anaconda3\\lib\\site-packages (from selenium) (1.26.11)\n",
      "Requirement already satisfied: trio-websocket~=0.9 in c:\\users\\yashika\\anaconda3\\lib\\site-packages (from selenium) (0.9.2)\n",
      "Requirement already satisfied: cffi>=1.14 in c:\\users\\yashika\\anaconda3\\lib\\site-packages (from trio~=0.17->selenium) (1.15.1)\n",
      "Requirement already satisfied: sniffio in c:\\users\\yashika\\anaconda3\\lib\\site-packages (from trio~=0.17->selenium) (1.2.0)\n",
      "Requirement already satisfied: exceptiongroup>=1.0.0rc9 in c:\\users\\yashika\\anaconda3\\lib\\site-packages (from trio~=0.17->selenium) (1.1.0)\n",
      "Requirement already satisfied: idna in c:\\users\\yashika\\anaconda3\\lib\\site-packages (from trio~=0.17->selenium) (3.3)\n",
      "Requirement already satisfied: attrs>=19.2.0 in c:\\users\\yashika\\anaconda3\\lib\\site-packages (from trio~=0.17->selenium) (21.4.0)\n",
      "Requirement already satisfied: sortedcontainers in c:\\users\\yashika\\anaconda3\\lib\\site-packages (from trio~=0.17->selenium) (2.4.0)\n",
      "Requirement already satisfied: async-generator>=1.9 in c:\\users\\yashika\\anaconda3\\lib\\site-packages (from trio~=0.17->selenium) (1.10)\n",
      "Requirement already satisfied: outcome in c:\\users\\yashika\\anaconda3\\lib\\site-packages (from trio~=0.17->selenium) (1.2.0)\n",
      "Requirement already satisfied: wsproto>=0.14 in c:\\users\\yashika\\anaconda3\\lib\\site-packages (from trio-websocket~=0.9->selenium) (1.2.0)\n",
      "Requirement already satisfied: PySocks!=1.5.7,<2.0,>=1.5.6 in c:\\users\\yashika\\anaconda3\\lib\\site-packages (from urllib3[socks]~=1.26->selenium) (1.7.1)\n",
      "Requirement already satisfied: pycparser in c:\\users\\yashika\\anaconda3\\lib\\site-packages (from cffi>=1.14->trio~=0.17->selenium) (2.21)\n",
      "Requirement already satisfied: h11<1,>=0.9.0 in c:\\users\\yashika\\anaconda3\\lib\\site-packages (from wsproto>=0.14->trio-websocket~=0.9->selenium) (0.14.0)\n",
      "Note: you may need to restart the kernel to use updated packages.\n"
     ]
    }
   ],
   "source": [
    "pip install selenium"
   ]
  },
  {
   "cell_type": "code",
   "execution_count": 2,
   "id": "7584dd56",
   "metadata": {},
   "outputs": [],
   "source": [
    "import selenium\n",
    "import pandas as pd\n",
    "from selenium import webdriver\n",
    "import warnings\n",
    "warnings.filterwarnings('ignore')\n",
    "from selenium.common.exceptions import StaleElementReferenceException, NoSuchElementException\n",
    "from selenium.webdriver.common.by import By\n",
    "import time\n",
    "import requests"
   ]
  },
  {
   "cell_type": "code",
   "execution_count": 231,
   "id": "e13100a7",
   "metadata": {},
   "outputs": [],
   "source": [
    "driver = webdriver.Chrome(r\"chromedriver.exe\")"
   ]
  },
  {
   "cell_type": "code",
   "execution_count": 4,
   "id": "80664c51",
   "metadata": {},
   "outputs": [],
   "source": [
    "driver.get(\"https://www.amazon.in/\")"
   ]
  },
  {
   "cell_type": "code",
   "execution_count": 5,
   "id": "ea5aecde",
   "metadata": {},
   "outputs": [
    {
     "name": "stdout",
     "output_type": "stream",
     "text": [
      "Enter your item: guitar\n"
     ]
    }
   ],
   "source": [
    "value = input(\"Enter your item: \")"
   ]
  },
  {
   "cell_type": "code",
   "execution_count": 6,
   "id": "e55eaa5f",
   "metadata": {},
   "outputs": [],
   "source": [
    "search_tags = driver.find_element(By.XPATH,'//div[@class=\"nav-search-field \"]//input')\n",
    "search_tags.send_keys(value)\n",
    "search_button = driver.find_element(By.XPATH,'//div[@class=\"nav-search-submit nav-sprite\"]//span')\n",
    "search_button.click()\n",
    "time.sleep(3)"
   ]
  },
  {
   "cell_type": "code",
   "execution_count": 7,
   "id": "da432925",
   "metadata": {},
   "outputs": [],
   "source": [
    "producturls = []\n",
    "brand_name= []\n",
    "product_name =[]\n",
    "price = []\n",
    "retexchange = []\n",
    "exp_delivery = []\n",
    "avail = []\n"
   ]
  },
  {
   "cell_type": "code",
   "execution_count": 8,
   "id": "2216c3f3",
   "metadata": {},
   "outputs": [],
   "source": [
    "\n",
    "start = 0\n",
    "end = 3\n",
    "for page in range(start,end):\n",
    "    url = driver.find_elements(By.XPATH,'//a[@class=\"a-link-normal s-underline-text s-underline-link-text s-link-style a-text-normal\"]')\n",
    "    for i in url[0:10]:\n",
    "        producturls.append(i.get_attribute(\"href\"))\n",
    "        \n",
    "    next_button= driver.find_element(By.XPATH,'//a[@class=\"s-pagination-item s-pagination-next s-pagination-button s-pagination-separator\"]')\n",
    "    next_button.click()\n",
    "    time.sleep(3)"
   ]
  },
  {
   "cell_type": "code",
   "execution_count": 10,
   "id": "f08c77a4",
   "metadata": {},
   "outputs": [],
   "source": [
    "for url in producturls[:20]:\n",
    "    driver.get(url)\n",
    "    time.sleep(2)\n",
    "    \n",
    "    try:\n",
    "        brand_tags = driver.find_element(By.XPATH,'//*[@id=\"productOverview_feature_div\"]/div/table/tbody/tr[1]/td[2]/span')\n",
    "        brand_name.append(brand_tags.text)\n",
    "    except NoSuchElementException:\n",
    "        brand_name.append('-')\n",
    "\n",
    "    try:\n",
    "        product_tags = driver.find_element(By.XPATH,'//*[@id=\"productTitle\"]')\n",
    "        product_name.append(product_tags.text)\n",
    "    except NoSuchElementException:\n",
    "        product_name.append('-')\n",
    "\n",
    "\n",
    "    try:\n",
    "        price_tags = driver.find_element(By.XPATH,'//*[@id=\"corePriceDisplay_desktop_feature_div\"]/div[1]/span[2]/span[2]/span[2]')\n",
    "        price.append(price_tags.text)\n",
    "    except NoSuchElementException:\n",
    "        price.append('-')\n",
    "\n",
    "    try:\n",
    "        exchange_tags = driver.find_element(By.XPATH,'//*[@id=\"RETURNS_POLICY\"]/span/div[2]/a')\n",
    "        retexchange.append(exchange_tags.text)\n",
    "    except NoSuchElementException:\n",
    "        retexchange.append('-')\n",
    "\n",
    "    try:\n",
    "        delivery_tags = driver.find_element(By.XPATH,'//*[@id=\"mir-layout-DELIVERY_BLOCK-slot-PRIMARY_DELIVERY_MESSAGE_LARGE\"]/span/span')\n",
    "        exp_delivery.append(delivery_tags.text)\n",
    "    except NoSuchElementException:\n",
    "        exp_delivery.append('-')\n",
    "        \n",
    "    try:\n",
    "        avail_tags = driver.find_element(By.XPATH,'//*[@id=\"availability\"]/span')\n",
    "        avail.append(avail_tags.text)\n",
    "    except NoSuchElementException:\n",
    "        avail.append('-')\n",
    "        \n"
   ]
  },
  {
   "cell_type": "code",
   "execution_count": 12,
   "id": "202dbf6c",
   "metadata": {},
   "outputs": [
    {
     "name": "stdout",
     "output_type": "stream",
     "text": [
      "20 20 20 20 20 20\n"
     ]
    }
   ],
   "source": [
    "print (len(brand_name), len(product_name), len(price), len(retexchange), len(exp_delivery), len(avail))"
   ]
  },
  {
   "cell_type": "code",
   "execution_count": 13,
   "id": "a0034868",
   "metadata": {},
   "outputs": [
    {
     "data": {
      "text/html": [
       "<div>\n",
       "<style scoped>\n",
       "    .dataframe tbody tr th:only-of-type {\n",
       "        vertical-align: middle;\n",
       "    }\n",
       "\n",
       "    .dataframe tbody tr th {\n",
       "        vertical-align: top;\n",
       "    }\n",
       "\n",
       "    .dataframe thead th {\n",
       "        text-align: right;\n",
       "    }\n",
       "</style>\n",
       "<table border=\"1\" class=\"dataframe\">\n",
       "  <thead>\n",
       "    <tr style=\"text-align: right;\">\n",
       "      <th></th>\n",
       "      <th>BRAND</th>\n",
       "      <th>Product Name</th>\n",
       "      <th>Price</th>\n",
       "      <th>Return/Exchange</th>\n",
       "      <th>Expected Delivery</th>\n",
       "      <th>Availibility</th>\n",
       "    </tr>\n",
       "  </thead>\n",
       "  <tbody>\n",
       "    <tr>\n",
       "      <th>0</th>\n",
       "      <td>Kadence</td>\n",
       "      <td>Kadence Slowhand Premium Jumbo Semi Acoustic G...</td>\n",
       "      <td>11,999</td>\n",
       "      <td>7 days Replacement</td>\n",
       "      <td>Tuesday, 7 March</td>\n",
       "      <td>In stock</td>\n",
       "    </tr>\n",
       "    <tr>\n",
       "      <th>1</th>\n",
       "      <td>Kadence</td>\n",
       "      <td>Kadence Frontier Jumbo Semi Acoustic Guitar Wi...</td>\n",
       "      <td>6,499</td>\n",
       "      <td>7 days Replacement</td>\n",
       "      <td>Tuesday, 7 March</td>\n",
       "      <td>In stock</td>\n",
       "    </tr>\n",
       "    <tr>\n",
       "      <th>2</th>\n",
       "      <td>Kadence</td>\n",
       "      <td>Kadence Frontier guitar with Online Guitar lea...</td>\n",
       "      <td>4,999</td>\n",
       "      <td>7 days Replacement</td>\n",
       "      <td>Sunday, 5 March</td>\n",
       "      <td>In stock</td>\n",
       "    </tr>\n",
       "    <tr>\n",
       "      <th>3</th>\n",
       "      <td>Intern</td>\n",
       "      <td>INTERN 40 inches Acoustic Guitar with Pick-up ...</td>\n",
       "      <td>4,999</td>\n",
       "      <td>7 days Replacement</td>\n",
       "      <td>Sunday, 5 March</td>\n",
       "      <td>In stock</td>\n",
       "    </tr>\n",
       "    <tr>\n",
       "      <th>4</th>\n",
       "      <td>JUAREZ</td>\n",
       "      <td>Juârez Acoustic Guitar, 38 Inch Cutaway, 038C ...</td>\n",
       "      <td>1,999</td>\n",
       "      <td>7 days Replacement</td>\n",
       "      <td>Sunday, 5 March</td>\n",
       "      <td>In stock</td>\n",
       "    </tr>\n",
       "    <tr>\n",
       "      <th>5</th>\n",
       "      <td>Intern</td>\n",
       "      <td>Intern INT-38C Right hand Acoustic Guitar Kit,...</td>\n",
       "      <td>2,299</td>\n",
       "      <td>7 days Replacement</td>\n",
       "      <td>Sunday, 5 March</td>\n",
       "      <td>In stock</td>\n",
       "    </tr>\n",
       "    <tr>\n",
       "      <th>6</th>\n",
       "      <td>YAMAHA</td>\n",
       "      <td>Yamaha F280 Acoustic Rosewood Guitar (Natural,...</td>\n",
       "      <td>7,200</td>\n",
       "      <td>7 days Replacement</td>\n",
       "      <td>Sunday, 5 March</td>\n",
       "      <td>In stock</td>\n",
       "    </tr>\n",
       "    <tr>\n",
       "      <th>7</th>\n",
       "      <td>Kadence</td>\n",
       "      <td>Kadence Frontier Jumbo Semi Acoustic Guitar Wi...</td>\n",
       "      <td>6,499</td>\n",
       "      <td>7 days Replacement</td>\n",
       "      <td>Tuesday, 7 March</td>\n",
       "      <td>In stock</td>\n",
       "    </tr>\n",
       "    <tr>\n",
       "      <th>8</th>\n",
       "      <td>Kadence</td>\n",
       "      <td>Kadence Slowhand Premium Jumbo Semi Acoustic G...</td>\n",
       "      <td>11,999</td>\n",
       "      <td>7 days Replacement</td>\n",
       "      <td>Tuesday, 7 March</td>\n",
       "      <td>In stock</td>\n",
       "    </tr>\n",
       "    <tr>\n",
       "      <th>9</th>\n",
       "      <td>Kadence</td>\n",
       "      <td>Kadence Frontier guitar with Online Guitar lea...</td>\n",
       "      <td>4,999</td>\n",
       "      <td>7 days Replacement</td>\n",
       "      <td>Sunday, 5 March</td>\n",
       "      <td>In stock</td>\n",
       "    </tr>\n",
       "    <tr>\n",
       "      <th>10</th>\n",
       "      <td>Guitar Bro</td>\n",
       "      <td>GUITAR BRO - COMBO (Blue Acoustic Guitar for B...</td>\n",
       "      <td>8,999</td>\n",
       "      <td>7 days Replacement</td>\n",
       "      <td>March 7 - 10</td>\n",
       "      <td>In stock</td>\n",
       "    </tr>\n",
       "    <tr>\n",
       "      <th>11</th>\n",
       "      <td>JUAREZ</td>\n",
       "      <td>Juârez Lindenwood Acoustic Guitar, 38 Inches C...</td>\n",
       "      <td>2,790</td>\n",
       "      <td>7 days Replacement</td>\n",
       "      <td>Sunday, 5 March</td>\n",
       "      <td>In stock</td>\n",
       "    </tr>\n",
       "    <tr>\n",
       "      <th>12</th>\n",
       "      <td>Cort</td>\n",
       "      <td>Cort AF515CE 6-String Electro Acoustic Guitar ...</td>\n",
       "      <td>12,700</td>\n",
       "      <td>7 days Replacement</td>\n",
       "      <td>Sunday, 5 March</td>\n",
       "      <td>Only 1 left in stock</td>\n",
       "    </tr>\n",
       "    <tr>\n",
       "      <th>13</th>\n",
       "      <td>JUAREZ</td>\n",
       "      <td>Juarez JRZ-ST01 6-String Electric Guitar, Righ...</td>\n",
       "      <td>5,749</td>\n",
       "      <td>7 days Replacement</td>\n",
       "      <td>Sunday, 5 March</td>\n",
       "      <td>In stock</td>\n",
       "    </tr>\n",
       "    <tr>\n",
       "      <th>14</th>\n",
       "      <td>Intern</td>\n",
       "      <td>Intern INT-38C Lindenwood Acoustic Guitar Kit ...</td>\n",
       "      <td>2,399</td>\n",
       "      <td>7 days Replacement</td>\n",
       "      <td>Sunday, 5 March</td>\n",
       "      <td>In stock</td>\n",
       "    </tr>\n",
       "    <tr>\n",
       "      <th>15</th>\n",
       "      <td>YAMAHA</td>\n",
       "      <td>Yamaha F280 Acoustic Guitar, Natural With Baja...</td>\n",
       "      <td>7,899</td>\n",
       "      <td>7 days Replacement</td>\n",
       "      <td>Sunday, 5 March</td>\n",
       "      <td>In stock</td>\n",
       "    </tr>\n",
       "    <tr>\n",
       "      <th>16</th>\n",
       "      <td>YAMAHA</td>\n",
       "      <td>Yamaha FS80C 25 Incheses sprucewood The Ultima...</td>\n",
       "      <td>8,839</td>\n",
       "      <td>7 days Replacement</td>\n",
       "      <td>Monday, 6 March</td>\n",
       "      <td>In stock</td>\n",
       "    </tr>\n",
       "    <tr>\n",
       "      <th>17</th>\n",
       "      <td>Henrix</td>\n",
       "      <td>Henrix 38C 38 Inch Cutaway Acoustic Guitar Wit...</td>\n",
       "      <td>2,849</td>\n",
       "      <td>7 days Replacement</td>\n",
       "      <td>Sunday, 5 March</td>\n",
       "      <td>In stock</td>\n",
       "    </tr>\n",
       "    <tr>\n",
       "      <th>18</th>\n",
       "      <td>ORANGEWOOD GUITARS</td>\n",
       "      <td>ORANGEWOOD OLIVER JR. MAHOGANY MINI GRAND CONC...</td>\n",
       "      <td>-</td>\n",
       "      <td>7 days Replacement</td>\n",
       "      <td>Monday, 6 March</td>\n",
       "      <td>Only 1 left in stock</td>\n",
       "    </tr>\n",
       "    <tr>\n",
       "      <th>19</th>\n",
       "      <td>JUAREZ</td>\n",
       "      <td>Juarez Acoustic Lindenwood Guitar, 38 Inches C...</td>\n",
       "      <td>2,499</td>\n",
       "      <td>7 days Replacement</td>\n",
       "      <td>Sunday, 5 March</td>\n",
       "      <td>In stock</td>\n",
       "    </tr>\n",
       "  </tbody>\n",
       "</table>\n",
       "</div>"
      ],
      "text/plain": [
       "                 BRAND                                       Product Name  \\\n",
       "0              Kadence  Kadence Slowhand Premium Jumbo Semi Acoustic G...   \n",
       "1              Kadence  Kadence Frontier Jumbo Semi Acoustic Guitar Wi...   \n",
       "2              Kadence  Kadence Frontier guitar with Online Guitar lea...   \n",
       "3               Intern  INTERN 40 inches Acoustic Guitar with Pick-up ...   \n",
       "4               JUAREZ  Juârez Acoustic Guitar, 38 Inch Cutaway, 038C ...   \n",
       "5               Intern  Intern INT-38C Right hand Acoustic Guitar Kit,...   \n",
       "6               YAMAHA  Yamaha F280 Acoustic Rosewood Guitar (Natural,...   \n",
       "7              Kadence  Kadence Frontier Jumbo Semi Acoustic Guitar Wi...   \n",
       "8              Kadence  Kadence Slowhand Premium Jumbo Semi Acoustic G...   \n",
       "9              Kadence  Kadence Frontier guitar with Online Guitar lea...   \n",
       "10          Guitar Bro  GUITAR BRO - COMBO (Blue Acoustic Guitar for B...   \n",
       "11              JUAREZ  Juârez Lindenwood Acoustic Guitar, 38 Inches C...   \n",
       "12                Cort  Cort AF515CE 6-String Electro Acoustic Guitar ...   \n",
       "13              JUAREZ  Juarez JRZ-ST01 6-String Electric Guitar, Righ...   \n",
       "14              Intern  Intern INT-38C Lindenwood Acoustic Guitar Kit ...   \n",
       "15              YAMAHA  Yamaha F280 Acoustic Guitar, Natural With Baja...   \n",
       "16              YAMAHA  Yamaha FS80C 25 Incheses sprucewood The Ultima...   \n",
       "17              Henrix  Henrix 38C 38 Inch Cutaway Acoustic Guitar Wit...   \n",
       "18  ORANGEWOOD GUITARS  ORANGEWOOD OLIVER JR. MAHOGANY MINI GRAND CONC...   \n",
       "19              JUAREZ  Juarez Acoustic Lindenwood Guitar, 38 Inches C...   \n",
       "\n",
       "     Price     Return/Exchange Expected Delivery          Availibility  \n",
       "0   11,999  7 days Replacement  Tuesday, 7 March              In stock  \n",
       "1    6,499  7 days Replacement  Tuesday, 7 March              In stock  \n",
       "2    4,999  7 days Replacement   Sunday, 5 March              In stock  \n",
       "3    4,999  7 days Replacement   Sunday, 5 March              In stock  \n",
       "4    1,999  7 days Replacement   Sunday, 5 March              In stock  \n",
       "5    2,299  7 days Replacement   Sunday, 5 March              In stock  \n",
       "6    7,200  7 days Replacement   Sunday, 5 March              In stock  \n",
       "7    6,499  7 days Replacement  Tuesday, 7 March              In stock  \n",
       "8   11,999  7 days Replacement  Tuesday, 7 March              In stock  \n",
       "9    4,999  7 days Replacement   Sunday, 5 March              In stock  \n",
       "10   8,999  7 days Replacement      March 7 - 10              In stock  \n",
       "11   2,790  7 days Replacement   Sunday, 5 March              In stock  \n",
       "12  12,700  7 days Replacement   Sunday, 5 March  Only 1 left in stock  \n",
       "13   5,749  7 days Replacement   Sunday, 5 March              In stock  \n",
       "14   2,399  7 days Replacement   Sunday, 5 March              In stock  \n",
       "15   7,899  7 days Replacement   Sunday, 5 March              In stock  \n",
       "16   8,839  7 days Replacement   Monday, 6 March              In stock  \n",
       "17   2,849  7 days Replacement   Sunday, 5 March              In stock  \n",
       "18       -  7 days Replacement   Monday, 6 March  Only 1 left in stock  \n",
       "19   2,499  7 days Replacement   Sunday, 5 March              In stock  "
      ]
     },
     "execution_count": 13,
     "metadata": {},
     "output_type": "execute_result"
    }
   ],
   "source": [
    "import pandas as pd\n",
    "df = pd.DataFrame({'BRAND':brand_name, 'Product Name': product_name,'Price': price, 'Return/Exchange': retexchange, 'Expected Delivery': exp_delivery, 'Availibility': avail})\n",
    "df"
   ]
  },
  {
   "cell_type": "code",
   "execution_count": null,
   "id": "0f6c560f",
   "metadata": {},
   "outputs": [],
   "source": []
  },
  {
   "cell_type": "markdown",
   "id": "22dd99db",
   "metadata": {},
   "source": [
    "Question 3"
   ]
  },
  {
   "cell_type": "code",
   "execution_count": 34,
   "id": "8a78bfb6",
   "metadata": {},
   "outputs": [],
   "source": [
    "driver.get(\"https://images.google.com/\")"
   ]
  },
  {
   "cell_type": "code",
   "execution_count": null,
   "id": "09eba405",
   "metadata": {},
   "outputs": [],
   "source": [
    "value = ['guitar','cars and machine learning','cake','fruits']"
   ]
  },
  {
   "cell_type": "code",
   "execution_count": 19,
   "id": "e1fa9a4d",
   "metadata": {},
   "outputs": [],
   "source": [
    "search_img = driver.find_element(By.CLASS_NAME,\"gLFyf\")\n",
    "search_img.send_keys(value)\n",
    "\n",
    "\n",
    "search_button = driver.find_element(By.CLASS_NAME,\"Tg7LZd\")\n",
    "search_button.click()\n",
    "time.sleep(3)"
   ]
  },
  {
   "cell_type": "code",
   "execution_count": 23,
   "id": "13350769",
   "metadata": {},
   "outputs": [],
   "source": [
    "for _ in range(20):\n",
    "    driver.execute_script(\"window.scrollBy(0,1000)\")"
   ]
  },
  {
   "cell_type": "code",
   "execution_count": 24,
   "id": "5c164861",
   "metadata": {},
   "outputs": [],
   "source": [
    "images = driver.find_elements(By.XPATH,'//img[@class=\"rg_i Q4LuWd\"]')"
   ]
  },
  {
   "cell_type": "code",
   "execution_count": 25,
   "id": "557510bd",
   "metadata": {},
   "outputs": [],
   "source": [
    "img_urls =[]\n",
    "img_data = []"
   ]
  },
  {
   "cell_type": "code",
   "execution_count": 27,
   "id": "99494b9e",
   "metadata": {},
   "outputs": [],
   "source": [
    "for image in images:\n",
    "    source = image.get_attribute('src')\n",
    "    if source is not None:\n",
    "        if(source[0:4] == 'http'):\n",
    "            img_urls.append(source)"
   ]
  },
  {
   "cell_type": "code",
   "execution_count": 31,
   "id": "f7078f23",
   "metadata": {},
   "outputs": [
    {
     "name": "stdout",
     "output_type": "stream",
     "text": [
      "Downloading 0 of 10 images \n",
      "Downloading 1 of 10 images \n",
      "Downloading 2 of 10 images \n",
      "Downloading 3 of 10 images \n",
      "Downloading 4 of 10 images \n",
      "Downloading 5 of 10 images \n",
      "Downloading 6 of 10 images \n",
      "Downloading 7 of 10 images \n",
      "Downloading 8 of 10 images \n",
      "Downloading 9 of 10 images \n",
      "Downloading 10 of 10 images \n"
     ]
    }
   ],
   "source": [
    "for i in range(len(img_urls)):\n",
    "    if i >10:\n",
    "        break\n",
    "    print(\"Downloading {0} of {1} images \".format(i,10))\n",
    "    response = requests.get(img_urls[i])\n",
    "    file = open(r\"C:\\Users\\Yashika\\Documents\\images\"+str(i)+\".jpg\",\"wb\")\n",
    "    file.write(response.content)"
   ]
  },
  {
   "cell_type": "markdown",
   "id": "9119405a",
   "metadata": {},
   "source": [
    "Question 4"
   ]
  },
  {
   "cell_type": "code",
   "execution_count": 382,
   "id": "28dc099f",
   "metadata": {},
   "outputs": [],
   "source": [
    "driver.get(\"https://www.flipkart.com/\")"
   ]
  },
  {
   "cell_type": "code",
   "execution_count": 369,
   "id": "07b6c257",
   "metadata": {},
   "outputs": [
    {
     "name": "stdout",
     "output_type": "stream",
     "text": [
      "Enter the smartphone name: oneplus\n"
     ]
    }
   ],
   "source": [
    "smartphone =  input(\"Enter the smartphone name: \")"
   ]
  },
  {
   "cell_type": "code",
   "execution_count": 383,
   "id": "55bd4edd",
   "metadata": {},
   "outputs": [],
   "source": [
    "time.sleep(5)\n",
    "search_tag = driver.find_element(By.CLASS_NAME,\"_3704LK\")\n",
    "search_tag.send_keys(smartphone)\n",
    "search_button = driver.find_element(By.CLASS_NAME,\"L0Z3Pu\")\n",
    "search_button.click()\n",
    "time.sleep(3)"
   ]
  },
  {
   "cell_type": "code",
   "execution_count": 384,
   "id": "84f9c2b2",
   "metadata": {},
   "outputs": [],
   "source": [
    "purls = []\n",
    "brand_name = []\n",
    "smartphone_name = []\n",
    "colour = []\n",
    "RAM = []\n",
    "ROM = []\n",
    "pcamera = []\n",
    "scamera = []\n",
    "display = []\n",
    "battery = []\n",
    "price = []"
   ]
  },
  {
   "cell_type": "code",
   "execution_count": 385,
   "id": "94c2ef2a",
   "metadata": {},
   "outputs": [],
   "source": [
    "url = driver.find_elements(By.CLASS_NAME,\"s1Q9rs\")\n",
    "for i in url:\n",
    "    purls.append(i.get_attribute(\"href\"))"
   ]
  },
  {
   "cell_type": "code",
   "execution_count": 390,
   "id": "e2b4fa54",
   "metadata": {},
   "outputs": [
    {
     "name": "stdout",
     "output_type": "stream",
     "text": [
      "40\n"
     ]
    }
   ],
   "source": [
    "print(len(purls))"
   ]
  },
  {
   "cell_type": "code",
   "execution_count": 392,
   "id": "a82d7b52",
   "metadata": {},
   "outputs": [],
   "source": [
    "for url in purls[0:2]:\n",
    "    driver.get(url)\n",
    "    read_more = driver.find_element(By.XPATH,'//*[@id=\"container\"]/div/div[3]/div[1]/div[2]/div[7]/div[4]/div/div[2]/button')\n",
    "    read_more.click()\n",
    "    \n",
    "    time.sleep(20)\n",
    "    try:\n",
    "        brand_tags = driver.find_element(By.XPATH,'//*[@id=\"container\"]/div/div[3]/div[1]/div[2]/div[2]/div/div[1]/h1/span')\n",
    "        brand_name.append(brand_tags.text)\n",
    "    except NoSuchElementException:\n",
    "        brand_name.append('-')\n",
    "\n",
    "    try:\n",
    "        phone_tags = driver.find_element(By.XPATH,'//*[@id=\"container\"]/div/div[3]/div[1]/div[2]/div[7]/div[4]/div/div[2]/div[1]/div[1]/table/tbody/tr[3]/td[2]/ul/li')\n",
    "        smartphone_name.append(phone_tags.text)\n",
    "    except NoSuchElementException:\n",
    "        smartphone_name.append('-')\n",
    "\n",
    "\n",
    "    try:\n",
    "        price_tags = driver.find_element(By.XPATH,'//*[@id=\"container\"]/div/div[3]/div[1]/div[2]/div[2]/div/div[3]/div[1]/div/div[1]')\n",
    "        price.append(price_tags.text)\n",
    "    except NoSuchElementException:\n",
    "        price.append('-')\n",
    "\n",
    "    \n",
    "    try:\n",
    "        display_tags = driver.find_element(By.XPATH,'//*[@id=\"container\"]/div/div[3]/div[1]/div[2]/div[6]/div[1]/div/div[2]/ul/li[2]')\n",
    "        display.append(display_tags.text)\n",
    "    except NoSuchElementException:\n",
    "        display.append('-')\n",
    "        \n",
    "    try:\n",
    "        pcam_tags = driver.find_element(By.XPATH,'//*[@id=\"container\"]/div/div[3]/div[1]/div[2]/div[7]/div[4]/div/div[2]/div[1]/div[5]/table/tbody/tr/td[2]/ul/li')\n",
    "        pcamera.append(pcam_tags.text)\n",
    "    except NoSuchElementException:\n",
    "        pcamera.append('-')\n",
    "        \n",
    "    try:\n",
    "        scam_tags = driver.find_element(By.XPATH,'//*[@id=\"container\"]/div/div[3]/div[1]/div[2]/div[9]/div[5]/div/div[2]/div[1]/div[6]/table/tbody/tr[6]/td[2]/ul/li')\n",
    "        scamera.append(scam_tags.text)\n",
    "    except NoSuchElementException:\n",
    "        scamera.append('-')\n",
    "       \n",
    "    try:\n",
    "        ram_tags = driver.find_element(By.XPATH,'//*[@id=\"container\"]/div/div[3]/div[1]/div[2]/div[7]/div[4]/div/div[2]/div[1]/div[4]/table/tbody/tr[2]/td[2]/ul/li')\n",
    "        RAM.append(ram_tags.text)\n",
    "    except NoSuchElementException:\n",
    "        RAM.append('-')\n",
    "        \n",
    "    try:\n",
    "        rom_tags = driver.find_element(By.XPATH,'//*[@id=\"container\"]/div/div[3]/div[1]/div[2]/div[7]/div[4]/div/div[2]/div[1]/div[4]/table/tbody/tr[1]/td[2]/ul/li')\n",
    "        ROM.append(rom_tags.text)\n",
    "    except NoSuchElementException:\n",
    "        ROM.append('-')\n",
    "        \n",
    "    try:\n",
    "        battery_tags = driver.find_element(By.XPATH,'//*[@id=\"container\"]/div/div[3]/div[1]/div[2]/div[7]/div[4]/div/div[2]/div[1]/div[7]/table/tbody/tr/td[2]/ul/li')\n",
    "        battery.append(battery_tags.text)\n",
    "    except NoSuchElementException:\n",
    "        battery.append('-')\n",
    "    \n",
    "    try:\n",
    "        colour_tags = driver.find_element(By.XPATH,'//*[@id=\"container\"]/div/div[3]/div[1]/div[2]/div[7]/div[4]/div/div[2]/div[1]/div[1]/table/tbody/tr[4]/td[2]/ul/li')\n",
    "        colour.append(colour_tags.text)\n",
    "    except NoSuchElementException:\n",
    "        colour.append('-')\n",
    "\n",
    "\n",
    "     "
   ]
  },
  {
   "cell_type": "code",
   "execution_count": 393,
   "id": "854c6d86",
   "metadata": {},
   "outputs": [
    {
     "name": "stdout",
     "output_type": "stream",
     "text": [
      "8 8 8 8 8 8 8 8 8 8\n"
     ]
    }
   ],
   "source": [
    "print (len(brand_name), len(smartphone_name), len(price), len(colour), len(display), len(pcamera), len(scamera), len(RAM), len(ROM), len(battery))"
   ]
  },
  {
   "cell_type": "code",
   "execution_count": 394,
   "id": "62ebc7c1",
   "metadata": {},
   "outputs": [
    {
     "data": {
      "text/html": [
       "<div>\n",
       "<style scoped>\n",
       "    .dataframe tbody tr th:only-of-type {\n",
       "        vertical-align: middle;\n",
       "    }\n",
       "\n",
       "    .dataframe tbody tr th {\n",
       "        vertical-align: top;\n",
       "    }\n",
       "\n",
       "    .dataframe thead th {\n",
       "        text-align: right;\n",
       "    }\n",
       "</style>\n",
       "<table border=\"1\" class=\"dataframe\">\n",
       "  <thead>\n",
       "    <tr style=\"text-align: right;\">\n",
       "      <th></th>\n",
       "      <th>BRAND</th>\n",
       "      <th>Smartphone Name</th>\n",
       "      <th>Price</th>\n",
       "      <th>RAM</th>\n",
       "      <th>Storage/ROM</th>\n",
       "      <th>colour</th>\n",
       "      <th>battery</th>\n",
       "      <th>display</th>\n",
       "      <th>Primary Camera</th>\n",
       "      <th>Secondary Camera</th>\n",
       "    </tr>\n",
       "  </thead>\n",
       "  <tbody>\n",
       "    <tr>\n",
       "      <th>0</th>\n",
       "      <td>OnePlus Nord CE 2 Lite 5G (Black Dusk, 128 GB)...</td>\n",
       "      <td>Nord CE 2 Lite 5G</td>\n",
       "      <td>₹19,820</td>\n",
       "      <td>6 GB</td>\n",
       "      <td>128 GB</td>\n",
       "      <td>Black Dusk</td>\n",
       "      <td>5000 mAh</td>\n",
       "      <td>16.74 cm (6.59 inch) Display</td>\n",
       "      <td>64MP Rear Camera</td>\n",
       "      <td>-</td>\n",
       "    </tr>\n",
       "    <tr>\n",
       "      <th>1</th>\n",
       "      <td>OnePlus Nord CE 2 Lite 5G (Blue Tide, 128 GB) ...</td>\n",
       "      <td>Nord CE 2 Lite 5G</td>\n",
       "      <td>₹19,989</td>\n",
       "      <td>6 GB</td>\n",
       "      <td>128 GB</td>\n",
       "      <td>Blue Tide</td>\n",
       "      <td>5000 mAh</td>\n",
       "      <td>16.74 cm (6.59 inch) Display</td>\n",
       "      <td>64MP Rear Camera</td>\n",
       "      <td>-</td>\n",
       "    </tr>\n",
       "    <tr>\n",
       "      <th>2</th>\n",
       "      <td>OnePlus Nord CE 2 Lite 5G (Blue Tide, 128 GB) ...</td>\n",
       "      <td>Nord CE 2 Lite 5G</td>\n",
       "      <td>₹19,948</td>\n",
       "      <td>6 GB</td>\n",
       "      <td>128 GB</td>\n",
       "      <td>Blue Tide</td>\n",
       "      <td>5000 mAh</td>\n",
       "      <td>16.74 cm (6.59 inch) Display</td>\n",
       "      <td>64MP Rear Camera</td>\n",
       "      <td>-</td>\n",
       "    </tr>\n",
       "    <tr>\n",
       "      <th>3</th>\n",
       "      <td>OnePlus Nord CE 2 Lite 5G (Black Dusk, 128 GB)...</td>\n",
       "      <td>Nord CE 2 Lite 5G</td>\n",
       "      <td>₹19,820</td>\n",
       "      <td>6 GB</td>\n",
       "      <td>128 GB</td>\n",
       "      <td>Black Dusk</td>\n",
       "      <td>5000 mAh</td>\n",
       "      <td>16.74 cm (6.59 inch) Display</td>\n",
       "      <td>64MP Rear Camera</td>\n",
       "      <td>-</td>\n",
       "    </tr>\n",
       "    <tr>\n",
       "      <th>4</th>\n",
       "      <td>OnePlus Nord CE 2 Lite 5G (Blue Tide, 128 GB) ...</td>\n",
       "      <td>Nord CE 2 Lite 5G</td>\n",
       "      <td>₹19,989</td>\n",
       "      <td>6 GB</td>\n",
       "      <td>128 GB</td>\n",
       "      <td>Blue Tide</td>\n",
       "      <td>5000 mAh</td>\n",
       "      <td>16.74 cm (6.59 inch) Display</td>\n",
       "      <td>64MP Rear Camera</td>\n",
       "      <td>-</td>\n",
       "    </tr>\n",
       "    <tr>\n",
       "      <th>5</th>\n",
       "      <td>OnePlus Nord CE 2 Lite 5G (Blue Tide, 128 GB) ...</td>\n",
       "      <td>Nord CE 2 Lite 5G</td>\n",
       "      <td>₹19,948</td>\n",
       "      <td>6 GB</td>\n",
       "      <td>128 GB</td>\n",
       "      <td>Blue Tide</td>\n",
       "      <td>5000 mAh</td>\n",
       "      <td>16.74 cm (6.59 inch) Display</td>\n",
       "      <td>64MP Rear Camera</td>\n",
       "      <td>-</td>\n",
       "    </tr>\n",
       "    <tr>\n",
       "      <th>6</th>\n",
       "      <td>OnePlus Nord CE 2 Lite 5G (Black Dusk, 128 GB)...</td>\n",
       "      <td>Nord CE 2 Lite 5G</td>\n",
       "      <td>₹19,820</td>\n",
       "      <td>6 GB</td>\n",
       "      <td>128 GB</td>\n",
       "      <td>Black Dusk</td>\n",
       "      <td>5000 mAh</td>\n",
       "      <td>16.74 cm (6.59 inch) Display</td>\n",
       "      <td>64MP Rear Camera</td>\n",
       "      <td>-</td>\n",
       "    </tr>\n",
       "    <tr>\n",
       "      <th>7</th>\n",
       "      <td>OnePlus Nord CE 2 Lite 5G (Blue Tide, 128 GB) ...</td>\n",
       "      <td>Nord CE 2 Lite 5G</td>\n",
       "      <td>₹19,989</td>\n",
       "      <td>6 GB</td>\n",
       "      <td>128 GB</td>\n",
       "      <td>Blue Tide</td>\n",
       "      <td>5000 mAh</td>\n",
       "      <td>16.74 cm (6.59 inch) Display</td>\n",
       "      <td>64MP Rear Camera</td>\n",
       "      <td>-</td>\n",
       "    </tr>\n",
       "  </tbody>\n",
       "</table>\n",
       "</div>"
      ],
      "text/plain": [
       "                                               BRAND    Smartphone Name  \\\n",
       "0  OnePlus Nord CE 2 Lite 5G (Black Dusk, 128 GB)...  Nord CE 2 Lite 5G   \n",
       "1  OnePlus Nord CE 2 Lite 5G (Blue Tide, 128 GB) ...  Nord CE 2 Lite 5G   \n",
       "2  OnePlus Nord CE 2 Lite 5G (Blue Tide, 128 GB) ...  Nord CE 2 Lite 5G   \n",
       "3  OnePlus Nord CE 2 Lite 5G (Black Dusk, 128 GB)...  Nord CE 2 Lite 5G   \n",
       "4  OnePlus Nord CE 2 Lite 5G (Blue Tide, 128 GB) ...  Nord CE 2 Lite 5G   \n",
       "5  OnePlus Nord CE 2 Lite 5G (Blue Tide, 128 GB) ...  Nord CE 2 Lite 5G   \n",
       "6  OnePlus Nord CE 2 Lite 5G (Black Dusk, 128 GB)...  Nord CE 2 Lite 5G   \n",
       "7  OnePlus Nord CE 2 Lite 5G (Blue Tide, 128 GB) ...  Nord CE 2 Lite 5G   \n",
       "\n",
       "     Price   RAM Storage/ROM      colour   battery  \\\n",
       "0  ₹19,820  6 GB      128 GB  Black Dusk  5000 mAh   \n",
       "1  ₹19,989  6 GB      128 GB   Blue Tide  5000 mAh   \n",
       "2  ₹19,948  6 GB      128 GB   Blue Tide  5000 mAh   \n",
       "3  ₹19,820  6 GB      128 GB  Black Dusk  5000 mAh   \n",
       "4  ₹19,989  6 GB      128 GB   Blue Tide  5000 mAh   \n",
       "5  ₹19,948  6 GB      128 GB   Blue Tide  5000 mAh   \n",
       "6  ₹19,820  6 GB      128 GB  Black Dusk  5000 mAh   \n",
       "7  ₹19,989  6 GB      128 GB   Blue Tide  5000 mAh   \n",
       "\n",
       "                        display    Primary Camera Secondary Camera  \n",
       "0  16.74 cm (6.59 inch) Display  64MP Rear Camera                -  \n",
       "1  16.74 cm (6.59 inch) Display  64MP Rear Camera                -  \n",
       "2  16.74 cm (6.59 inch) Display  64MP Rear Camera                -  \n",
       "3  16.74 cm (6.59 inch) Display  64MP Rear Camera                -  \n",
       "4  16.74 cm (6.59 inch) Display  64MP Rear Camera                -  \n",
       "5  16.74 cm (6.59 inch) Display  64MP Rear Camera                -  \n",
       "6  16.74 cm (6.59 inch) Display  64MP Rear Camera                -  \n",
       "7  16.74 cm (6.59 inch) Display  64MP Rear Camera                -  "
      ]
     },
     "execution_count": 394,
     "metadata": {},
     "output_type": "execute_result"
    }
   ],
   "source": [
    "import pandas as pd\n",
    "df = pd.DataFrame({'BRAND':brand_name, 'Smartphone Name': smartphone_name,'Price': price, 'RAM': RAM, 'Storage/ROM': ROM, 'colour': colour, 'battery': battery, 'display': display, 'Primary Camera': pcamera, 'Secondary Camera': scamera})\n",
    "df"
   ]
  },
  {
   "cell_type": "markdown",
   "id": "87c76d22",
   "metadata": {},
   "source": [
    "Question 5"
   ]
  },
  {
   "cell_type": "code",
   "execution_count": 232,
   "id": "4a26b171",
   "metadata": {},
   "outputs": [],
   "source": [
    "driver.get(\"https://www.google.com/maps/@23.2390656,77.4275072,12z\")"
   ]
  },
  {
   "cell_type": "code",
   "execution_count": 230,
   "id": "51b42a4c",
   "metadata": {},
   "outputs": [
    {
     "name": "stdout",
     "output_type": "stream",
     "text": [
      "Enter the city name: delhi\n"
     ]
    }
   ],
   "source": [
    "city =  input(\"Enter the city name: \")"
   ]
  },
  {
   "cell_type": "code",
   "execution_count": 233,
   "id": "c4f35a68",
   "metadata": {},
   "outputs": [],
   "source": [
    "search_tag = driver.find_element(By.CLASS_NAME,\"tactile-searchbox-input\")\n",
    "search_tag.send_keys(city)\n",
    "\n",
    "search_button = driver.find_element(By.CLASS_NAME,\"mL3xi\")\n",
    "search_button.click()\n",
    "time.sleep(3)"
   ]
  },
  {
   "cell_type": "code",
   "execution_count": 234,
   "id": "eeecac42",
   "metadata": {},
   "outputs": [
    {
     "name": "stdout",
     "output_type": "stream",
     "text": [
      "Url expected:  https://www.google.com/maps/place/Delhi/@28.6437954,76.8130351,10z/data=!4m6!3m5!1s0x390cfd5b347eb62d:0x37205b715389640!8m2!3d28.7040592!4d77.1024902!16zL20vMDlmMDc\n"
     ]
    }
   ],
   "source": [
    "try:\n",
    "    url_string = driver.current_url\n",
    "    print(\"Url expected: \", url_string)\n",
    "except:\n",
    "    print(\"none\")"
   ]
  },
  {
   "cell_type": "code",
   "execution_count": 243,
   "id": "b4b2a6f0",
   "metadata": {},
   "outputs": [],
   "source": [
    "import re\n",
    "lat_lng = re.findall(r'@(.*)data',url_string)"
   ]
  },
  {
   "cell_type": "code",
   "execution_count": 246,
   "id": "f5010bee",
   "metadata": {},
   "outputs": [
    {
     "name": "stdout",
     "output_type": "stream",
     "text": [
      "latitude and longitude are  ['28.6437954,76.8130351,10z/']\n"
     ]
    }
   ],
   "source": [
    "print (\"latitude and longitude are \",lat_lng)"
   ]
  },
  {
   "cell_type": "code",
   "execution_count": null,
   "id": "7b7ceb7f",
   "metadata": {},
   "outputs": [],
   "source": []
  }
 ],
 "metadata": {
  "kernelspec": {
   "display_name": "Python 3 (ipykernel)",
   "language": "python",
   "name": "python3"
  },
  "language_info": {
   "codemirror_mode": {
    "name": "ipython",
    "version": 3
   },
   "file_extension": ".py",
   "mimetype": "text/x-python",
   "name": "python",
   "nbconvert_exporter": "python",
   "pygments_lexer": "ipython3",
   "version": "3.9.13"
  }
 },
 "nbformat": 4,
 "nbformat_minor": 5
}
